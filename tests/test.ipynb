{
 "cells": [
  {
   "cell_type": "markdown",
   "metadata": {},
   "source": [
    "Section 1\n",
    "=========\n",
    "\n",
    "Subsection a\n",
    "------------"
   ]
  },
  {
   "cell_type": "code",
   "execution_count": null,
   "metadata": {
    "collapsed": true
   },
   "outputs": [],
   "source": [
    "this = 'is a code block'\n",
    "x = 1\n",
    "no = 'really!'\n",
    "p = argwhere(x == 2)"
   ]
  },
  {
   "cell_type": "markdown",
   "metadata": {},
   "source": [
    "![image](hood.jpg)\n",
    "\n",
    "Table\n",
    "-----\n",
    "\n",
    "  C1      C2\n",
    "  ------- -------\n",
    "  a       b\n",
    "  c       d\n",
    "\n",
    "List\n",
    "----\n",
    "\n",
    "### Bullets\n",
    "\n",
    "-   b1\n",
    "-   b2\n",
    "-   b3\n",
    "\n",
    "### List\n",
    "\n",
    "1.  l1\n",
    "2.  l2\n",
    "3.  l3\n",
    "\n",
    "Another code block!\n",
    "-------------------"
   ]
  },
  {
   "cell_type": "code",
   "execution_count": null,
   "metadata": {
    "collapsed": true
   },
   "outputs": [],
   "source": [
    "from pylab import linspace\n",
    "t = linspace(0, 1)\n",
    "x = t**2"
   ]
  },
  {
   "cell_type": "markdown",
   "metadata": {},
   "source": [
    "Lorem impslum..."
   ]
  },
  {
   "cell_type": "code",
   "execution_count": null,
   "metadata": {
    "collapsed": true
   },
   "outputs": [],
   "source": [
    "from pylab import *\n",
    "x = logspace(0, 1)\n",
    "y = x**2\n",
    "figure()\n",
    "plot(x, y)\n",
    "show()"
   ]
  },
  {
   "cell_type": "markdown",
   "metadata": {},
   "source": [
    "Quote\n",
    "-----\n",
    "\n",
    "> This is a quote!"
   ]
  }
 ],
 "metadata": {
  "kernelspec": {
   "display_name": "Python 2",
   "language": "python",
   "name": "python2"
  },
  "language_info": {
   "codemirror_mode": {
    "name": "ipython",
    "version": 2
   },
   "file_extension": ".py",
   "mimetype": "text/x-python",
   "name": "python",
   "nbconvert_exporter": "python",
   "pygments_lexer": "ipython2",
   "version": "2.7.9"
  }
 },
 "nbformat": 4,
 "nbformat_minor": 0
}
